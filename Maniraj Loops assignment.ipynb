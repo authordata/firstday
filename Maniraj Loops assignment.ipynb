{
 "cells": [
  {
   "cell_type": "code",
   "execution_count": 1,
   "id": "ea459913",
   "metadata": {},
   "outputs": [
    {
     "name": "stdout",
     "output_type": "stream",
     "text": [
      "enter a string:Write a Python program to find the length of the my_str\n",
      "the length of the string is 55\n"
     ]
    }
   ],
   "source": [
    "\"\"\"Write a Python program to find the length of the my_str using loop:-\n",
    "Input:- 'Write a Python program to find the length of the my_str'\"\"\"\n",
    "a=input('enter a string:')\n",
    "count=0\n",
    "for i in a:\n",
    "    count=count+1\n",
    "print('the length of the string is', count)\n"
   ]
  },
  {
   "cell_type": "code",
   "execution_count": 3,
   "id": "65d6d4c3",
   "metadata": {},
   "outputs": [
    {
     "name": "stdout",
     "output_type": "stream",
     "text": [
      "enter a string:peter piper picked a peck of pickled peppers.\\n\n",
      "the total number of times the lestter p is repeated 9\n"
     ]
    }
   ],
   "source": [
    "\"\"\"Write a Python program to find the total number of times letter 'p'\n",
    "is appeared in the below string using loop:-\n",
    "Input:- 'peter piper picked a peck of pickled peppers.\\n'\"\"\"\n",
    "a=input('enter a string:')\n",
    "count=0\n",
    "for i in a:\n",
    "    if(i=='p'):\n",
    "        count=count+1\n",
    "print('the total number of times the lestter p is repeated', count)"
   ]
  },
  {
   "cell_type": "code",
   "execution_count": 9,
   "id": "afc0dfea",
   "metadata": {},
   "outputs": [
    {
     "name": "stdout",
     "output_type": "stream",
     "text": [
      "enter a string:peter piper picked a peck of pickled peppers.\n",
      "0\n",
      "6\n",
      "8\n",
      "12\n",
      "21\n",
      "29\n",
      "37\n",
      "39\n",
      "40\n"
     ]
    }
   ],
   "source": [
    "\"\"\"Write a Python Program, to print all the indexes of all occurences of\n",
    "letter 'p' appeared in the string using loop:-\n",
    "Input:- 'peter piper picked a peck of pickled peppers.'\"\"\"\n",
    "a=input('enter a string:')\n",
    "i=0\n",
    "while i < len(a):\n",
    "    if(a[i]=='p'):\n",
    "        print(i)\n",
    "    i=i+1\n"
   ]
  },
  {
   "cell_type": "code",
   "execution_count": 32,
   "id": "4bd777c7",
   "metadata": {},
   "outputs": [
    {
     "name": "stdout",
     "output_type": "stream",
     "text": [
      "enter a string:peter piper picked a peck of pickled peppers.\n",
      "['peter ', ' piper ', ' picked ', ' a ', ' peck ', ' of ', ' pickled ', ' peppers.']\n"
     ]
    }
   ],
   "source": [
    "\"\"\"Write a python program to find below output using loop:-\n",
    "Input:- 'peter piper picked a peck of pickled peppers.'\n",
    "Output:- ['peter', 'piper', 'picked', 'a', 'peck', 'of', 'pickled',\n",
    "'peppers']\"\"\"\n",
    "a=input('enter a string:')\n",
    "b=[]\n",
    "c=''\n",
    "for i in a:\n",
    "    c=c+i\n",
    "    if(i==' ' or i=='.'):\n",
    "        b.append(c)\n",
    "        c=' '\n",
    "print(b)"
   ]
  },
  {
   "cell_type": "code",
   "execution_count": 38,
   "id": "e2c231d6",
   "metadata": {},
   "outputs": [
    {
     "name": "stdout",
     "output_type": "stream",
     "text": [
      "enter a string:peter piper picked a peck of pickled peppers.\n",
      "['peter ', ' piper ', ' picked ', ' a ', ' peck ', ' of ', ' pickled ', ' peppers.']\n",
      "[' peppers.', ' pickled ', ' of ', ' peck ', ' a ', ' picked ', ' piper ', 'peter ']\n",
      "  peppers. pickled  of  peck  a  picked  piper peter \n"
     ]
    }
   ],
   "source": [
    "\"\"\"Write a python program to find below output using loop:-\n",
    "Input:- 'peter piper picked a peck of pickled peppers.'\n",
    "Output:- 'peppers pickled of peck a picked piper peter'\"\"\"\n",
    "a=input('enter a string:')\n",
    "b=[]\n",
    "c=''\n",
    "#first converting the string into list\n",
    "for i in a:\n",
    "    c=c+i\n",
    "    if(i==' ' or i=='.'):\n",
    "        b.append(c)\n",
    "        c=' '\n",
    "print(b)\n",
    "# reversing the orders of lists\n",
    "k=[]\n",
    "j=len(b)-1\n",
    "while j >= 0:\n",
    "    k.append(b[j])\n",
    "    j=j-1\n",
    "print(k)\n",
    "# converting the list into string\n",
    "for i in k:\n",
    "    c=c+i\n",
    "print(c)"
   ]
  },
  {
   "cell_type": "code",
   "execution_count": 51,
   "id": "0ef6434a",
   "metadata": {},
   "outputs": [
    {
     "name": "stdout",
     "output_type": "stream",
     "text": [
      "enter a string:peter piper picked a peck of pickled peppers.\n",
      ".sreppep delkcip fo kcep a dekcip repip retep\n"
     ]
    }
   ],
   "source": [
    "\"\"\"Write a python program to find below output using loop:-\n",
    "Input:- 'peter piper picked a peck of pickled peppers.'\n",
    "Output:- '.sreppep delkcip fo kcep a dekcip repip retep'\"\"\"\n",
    "a=input('enter a string:')\n",
    "b=''\n",
    "k=len(a)-1\n",
    "while k >= 0:\n",
    "    b=b+a[k]\n",
    "    k=k-1\n",
    "print(b)"
   ]
  },
  {
   "cell_type": "code",
   "execution_count": null,
   "id": "dbfd5051",
   "metadata": {},
   "outputs": [],
   "source": [
    "for i in range(-len(a):-1):\n",
    "    "
   ]
  },
  {
   "cell_type": "code",
   "execution_count": 2,
   "id": "237b0a95",
   "metadata": {},
   "outputs": [
    {
     "name": "stdout",
     "output_type": "stream",
     "text": [
      "enter a string:peter piper picked a peck of pickled peppers.\n",
      ".sreppep delkcip fo kcep a dekcip repip retep\n"
     ]
    }
   ],
   "source": [
    "a=input('enter a string:')\n",
    "b=''\n",
    "k=len(a)-1\n",
    "for i in a:\n",
    "    b=i+b\n",
    "print(b)"
   ]
  },
  {
   "cell_type": "code",
   "execution_count": 74,
   "id": "b86a3ad7",
   "metadata": {},
   "outputs": [
    {
     "name": "stdout",
     "output_type": "stream",
     "text": [
      "enter a stringpeter piper picked a peck of pickled peppers.\n",
      "  retep  repip   dekcip   a   kcep   fo   delkcip  .sreppep \n"
     ]
    }
   ],
   "source": [
    "\"\"\"Write a python program to find below output using loop:-\n",
    "Input:- 'peter piper picked a peck of pickled peppers.'\n",
    "Output:- 'retep repip dekcip a kcep fo delkcip sreppep'\"\"\"\n",
    "a=input('enter a string')\n",
    "c=d=''\n",
    "b=[]\n",
    "# splitting string into a list\n",
    "for i in a:\n",
    "    c=c+i\n",
    "    if i==' ' or i=='.': #splitting into word\n",
    "        k=len(c)-1\n",
    "        while k>=0:      #reversing the word\n",
    "            d=d+c[k]\n",
    "            k=k-1\n",
    "        b.append(d)      # adding it to list\n",
    "        c=' '\n",
    "        d=' '\n",
    "for i in b:              #adding the list into a string\n",
    "    c=c+i\n",
    "print(c)"
   ]
  },
  {
   "cell_type": "code",
   "execution_count": 83,
   "id": "aab30d50",
   "metadata": {},
   "outputs": [
    {
     "name": "stdout",
     "output_type": "stream",
     "text": [
      "enter a stringpeter piper picked a peck of pickled peppers.\n",
      "Peter Piper Picked A Peck Of Pickled Peppers.\n"
     ]
    }
   ],
   "source": [
    "\"\"\"Write a python program to find below output using loop:-\n",
    "Input:- 'peter piper picked a peck of pickled peppers.'\n",
    "Output:- 'Peter Piper Picked A Peck Of Pickled Peppers'\"\"\"\n",
    "a=input('enter a string')\n",
    "c=[]\n",
    "m=''\n",
    "for i in a:\n",
    "    c.append(i) #each letter into a list\n",
    "    if(i==' ' or i=='.'):\n",
    "        c[0]=chr(ord(c[0])-32) # first letter of the list changed to capital\n",
    "        for i in c:   #each letter of the list in c is added to a string\n",
    "            m=m+i\n",
    "        c=[]\n",
    "print(m)\n",
    "    "
   ]
  },
  {
   "cell_type": "code",
   "execution_count": 97,
   "id": "ed5d66b5",
   "metadata": {},
   "outputs": [
    {
     "name": "stdout",
     "output_type": "stream",
     "text": [
      "enter a string Peter Piper Picked A Peck Of Pickled Peppers.\n",
      "Peter piper picked a peck of pickled peppers.\n"
     ]
    }
   ],
   "source": [
    "\"\"\"Write a python program to find below output using loop:-\n",
    "Input:- 'Peter Piper Picked A Peck Of Pickled Peppers.'\n",
    "Output:- 'Peter piper picked a peck of pickled peppers'\"\"\"\n",
    "a=input('enter a string ')\n",
    "c=[]\n",
    "k=0\n",
    "m=''\n",
    "for i in a:\n",
    "    c.append(i)   #each letter into a list\n",
    "    if(i==' ' or i=='.'): \n",
    "        if(k==0):         # avoiding capitalization of first word\n",
    "            for i in c:   #each letter of the list in c is added to a string\n",
    "                m=m+i\n",
    "                c=[]\n",
    "                k=k+1     # incrementing to make first letters of other words smaller\n",
    "        elif(k!=0):\n",
    "            c[0]=chr(ord(c[0])+32)\n",
    "            for i in c:\n",
    "                m=m+i\n",
    "                c=[]                \n",
    "print(m)"
   ]
  },
  {
   "cell_type": "code",
   "execution_count": 108,
   "id": "8c2bb364",
   "metadata": {},
   "outputs": [
    {
     "name": "stdout",
     "output_type": "stream",
     "text": [
      "enter a string  Peter Piper Picked A Peck Of Pickled Peppers.\n",
      "29\n",
      "Pickl\n"
     ]
    }
   ],
   "source": [
    "\"\"\"Write a python program to implement index method using loop. If\n",
    "sub_str is found in my_str then it will print the index\n",
    "of first occurrence of first character of matching string in my_str:-\n",
    "Input:- my_str = 'Peter Piper Picked A Peck Of Pickled Peppers.',\n",
    "sub_str = 'Pickl'\n",
    "Output:- 29\"\"\"\n",
    "my_str=input('enter a string  ')\n",
    "sub_str='Pickl'\n",
    "i=j=0\n",
    "for j in range(len(my_str)):    # need iteration for whole string\n",
    "    if sub_str[i]==my_str[j]:   # first we need to check with the word\n",
    "        j=j+1\n",
    "        i=i+1\n",
    "        if i==len(sub_str):     # means the whole word matched continuously \n",
    "            print(j-len(sub_str))      # the first index is must be deducted from j \n",
    "            x=my_str[j-len(sub_str):j]  # cross checking the word\n",
    "            print(x)                      # should print the same word we are searching for\n",
    "            break                   # if not used it will give index error, because the i takes value of 5 and sub_str[5] not exist\n",
    "    else:\n",
    "        j=j+1\n",
    "        i=0"
   ]
  },
  {
   "cell_type": "code",
   "execution_count": 123,
   "id": "1161a8cb",
   "metadata": {},
   "outputs": [
    {
     "name": "stdout",
     "output_type": "stream",
     "text": [
      "enter a string  Peter Piper Picked A Peck Of Pickled Peppers.\n",
      "Peter Piper Picked A Pack Of Pickled Peppers.\n"
     ]
    }
   ],
   "source": [
    "\"\"\"Write a python program to implement replace method using loop. If\n",
    "sub_str is found in my_str then it will replace the first\n",
    "occurrence of sub_str with new_str else it will will print sub_str not\n",
    "found:-\n",
    "Input:- my_str = 'Peter Piper Picked A Peck Of Pickled Peppers.',\n",
    "sub_str = 'Peck', new_str = 'Pack'\n",
    "Output:- 'Peter Piper Picked A Pack Of Pickled Peppers.'\"\"\"\n",
    "my_str=input('enter a string  ')\n",
    "sub_str='Peck'\n",
    "new_str='Pack'\n",
    "i=j=0\n",
    "for j in range(len(my_str)):    # need iteration for whole string\n",
    "    if sub_str[i]==my_str[j]:   # first we need to check with the word\n",
    "        j=j+1\n",
    "        i=i+1\n",
    "        if i==len(sub_str):     # means the whole word matched continuously \n",
    "            my_str= my_str[:(j-len(sub_str))]+new_str+my_str[j:]  #string sliced and replaced \n",
    "            print(my_str)\n",
    "            break      # if not used it will give index error, because the i takes value of 5 and sub_str[5] not exist\n",
    "    else:\n",
    "        j=j+1\n",
    "        i=0\n",
    "\n"
   ]
  },
  {
   "cell_type": "code",
   "execution_count": 4,
   "id": "5d28a928",
   "metadata": {},
   "outputs": [
    {
     "name": "stdout",
     "output_type": "stream",
     "text": [
      "enter a string  Peter Piper Picked A Peck Of Pickled Peppers.\n",
      "Peter Piper Picked A Pack Of Pickled Peppers.\n",
      "Peter Piper Picked A Peck Of Pickled Peppers.\n"
     ]
    }
   ],
   "source": [
    "my_str=input('enter a string  ')\n",
    "sub_str='Peck'\n",
    "new_str='Pack'\n",
    "for i in range(len(my_str)):\n",
    "    if my_str[i:i+len(sub_str)]== sub_str:\n",
    "        print(my_str[0:i]+new_str+my_str[i+len(sub_str):])\n",
    "print(my_str)"
   ]
  },
  {
   "cell_type": "code",
   "execution_count": 132,
   "id": "02efbe93",
   "metadata": {},
   "outputs": [
    {
     "name": "stdout",
     "output_type": "stream",
     "text": [
      "enter a string  Peter Piper Picked A Peck Of Pickled Peppers.\n",
      "*********************Peck********************\n"
     ]
    }
   ],
   "source": [
    "\"\"\"Write a python program to find below output (implements rjust and\n",
    "ljust) using loop:-\n",
    "Input:- 'Peter Piper Picked A Peck Of Pickled Peppers.', sub_str =\n",
    "'Peck',\n",
    "Output:- '*********************Peck********************'\"\"\"\n",
    "my_str=input('enter a string  ')\n",
    "sub_str='Peck'\n",
    "x=[]\n",
    "y=''\n",
    "i=j=0\n",
    "n=len(my_str)-1\n",
    "for k in my_str:\n",
    "    x.append(k)  # we can't assign strings directly, hence need to convert into list\n",
    "for j in range(len(my_str)):    # need iteration for whole string\n",
    "    if sub_str[i]==my_str[j]:   # first we need to check with the word\n",
    "        j=j+1\n",
    "        i=i+1\n",
    "        if i==len(sub_str): # means the whole word matched continuously \n",
    "            my_str=''       # as we changing my_str completely, \n",
    "            for m in range(j-len(sub_str)): \n",
    "                x[m]='*'      # changing values to *\n",
    "            while n >= j:\n",
    "                x[n]='*'\n",
    "                n=n-1\n",
    "            for i in x:\n",
    "                my_str=my_str+i   #List is converted into string again\n",
    "            print(my_str)\n",
    "            break      # if not used it will give index error, because the i takes value of 5 and sub_str[5] not exist\n",
    "    else:\n",
    "        j=j+1\n",
    "        i=0\n",
    "\n"
   ]
  },
  {
   "cell_type": "code",
   "execution_count": 7,
   "id": "57218f10",
   "metadata": {},
   "outputs": [
    {
     "name": "stdout",
     "output_type": "stream",
     "text": [
      "enter a string  This is Python class\n",
      "['This', ' is', ' Python class']\n"
     ]
    }
   ],
   "source": [
    "\"\"\"Write a python program to find below output using loop:-\n",
    "Input:- 'This is Python class', sep = ' is',\n",
    "Output:- ['This', 'is', 'Python class']\"\"\"\n",
    "\n",
    "my_str=input('enter a string  ')\n",
    "sep=' is'\n",
    "y=[]\n",
    "i=j=0\n",
    "for j in range(len(my_str)):    # need iteration for whole string\n",
    "    if sep[i]==my_str[j]:   # first we need to check with the word\n",
    "        j=j+1\n",
    "        i=i+1\n",
    "        if i==len(sep):     # means the whole word matched continuously \n",
    "            y.append(my_str[0:j-len(sep)])\n",
    "            y.append(sep)\n",
    "            y.append(my_str[j:])\n",
    "            print(y)\n",
    "            break      # if not used it will give index error, because the i takes value of 5 and sub_str[5] not exist\n",
    "    else:\n",
    "        j=j+1\n",
    "        i=0"
   ]
  },
  {
   "cell_type": "code",
   "execution_count": null,
   "id": "d245d462",
   "metadata": {},
   "outputs": [],
   "source": []
  }
 ],
 "metadata": {
  "kernelspec": {
   "display_name": "Python 3 (ipykernel)",
   "language": "python",
   "name": "python3"
  },
  "language_info": {
   "codemirror_mode": {
    "name": "ipython",
    "version": 3
   },
   "file_extension": ".py",
   "mimetype": "text/x-python",
   "name": "python",
   "nbconvert_exporter": "python",
   "pygments_lexer": "ipython3",
   "version": "3.9.13"
  }
 },
 "nbformat": 4,
 "nbformat_minor": 5
}
